{
 "cells": [
  {
   "cell_type": "markdown",
   "metadata": {},
   "source": [
    "### Advend of code 2020 Day05"
   ]
  },
  {
   "cell_type": "code",
   "execution_count": 32,
   "metadata": {},
   "outputs": [],
   "source": [
    "binaryData = []\n",
    "zeroChars = set([\"F\", \"L\"])\n",
    "oneChars = set([\"B\", \"R\"])\n",
    "\n",
    "with open(\"C:\\\\Users\\\\Thies\\\\Documents\\\\Advend of Code 2020\\\\Day05\\\\Input05.txt\") as f:\n",
    "    line = f.readline().strip()\n",
    "    while line:\n",
    "        binary = \"\"\n",
    "        for c in line:\n",
    "            if c in zeroChars:\n",
    "                binary += \"0\"\n",
    "            elif c in oneChars:\n",
    "                binary += \"1\"\n",
    "        binaryData.append(binary)\n",
    "        line = f.readline().strip()"
   ]
  },
  {
   "cell_type": "code",
   "execution_count": 50,
   "metadata": {},
   "outputs": [],
   "source": [
    "def calcSeat(binaryCode, outputRowCol = False):\n",
    "    reverseBinary = binaryCode[::-1]\n",
    "    \n",
    "    col = 0\n",
    "    for i in range(3):\n",
    "        if reverseBinary[i] == \"1\":\n",
    "            col += 2**i\n",
    "    \n",
    "    row = 0\n",
    "    for i in range(3, len(reverseBinary)):\n",
    "        if reverseBinary[i] == \"1\":\n",
    "            row += 2**(i-3)\n",
    "    \n",
    "    if outputRowCol:\n",
    "        return row, col, row * 8 + col \n",
    "    else:\n",
    "        return row * 8 + col\n",
    "    "
   ]
  },
  {
   "cell_type": "markdown",
   "metadata": {},
   "source": [
    "### Solve Part 1"
   ]
  },
  {
   "cell_type": "code",
   "execution_count": 51,
   "metadata": {
    "scrolled": true
   },
   "outputs": [
    {
     "name": "stdout",
     "output_type": "stream",
     "text": [
      "826\n"
     ]
    }
   ],
   "source": [
    "seatIDs = [calcSeat(binCode) for binCode in binaryData]\n",
    "print(max(seatIDs))"
   ]
  },
  {
   "cell_type": "markdown",
   "metadata": {},
   "source": [
    "### Solve Part 2"
   ]
  },
  {
   "cell_type": "code",
   "execution_count": 62,
   "metadata": {},
   "outputs": [
    {
     "name": "stdout",
     "output_type": "stream",
     "text": [
      "678\n"
     ]
    }
   ],
   "source": [
    "for i in range(min(seatIDs), max(seatIDs)):\n",
    "    if i not in seatIDs:\n",
    "        print(i)"
   ]
  }
 ],
 "metadata": {
  "kernelspec": {
   "display_name": "Python 3",
   "language": "python",
   "name": "python3"
  },
  "language_info": {
   "codemirror_mode": {
    "name": "ipython",
    "version": 3
   },
   "file_extension": ".py",
   "mimetype": "text/x-python",
   "name": "python",
   "nbconvert_exporter": "python",
   "pygments_lexer": "ipython3",
   "version": "3.6.5"
  }
 },
 "nbformat": 4,
 "nbformat_minor": 2
}
