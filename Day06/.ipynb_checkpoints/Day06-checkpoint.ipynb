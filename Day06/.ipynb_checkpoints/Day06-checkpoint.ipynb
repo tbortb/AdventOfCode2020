{
 "cells": [
  {
   "cell_type": "markdown",
   "metadata": {},
   "source": [
    "## Advend of code 2020 day06"
   ]
  },
  {
   "cell_type": "code",
   "execution_count": 7,
   "metadata": {},
   "outputs": [],
   "source": [
    "rawDataLines = []\n",
    "\n",
    "with open(\"res\\\\input06.txt\", encoding = 'utf-8') as f:\n",
    "    line = f.readline().strip()\n",
    "    while line:\n",
    "        rawDataLine = []\n",
    "        while line:\n",
    "            rawDataLine.append(line)\n",
    "            line = f.readline().strip() #Is null for empty lines\n",
    "        rawDataLines.append(rawDataLine)\n",
    "        line = f.readline().strip()"
   ]
  },
  {
   "cell_type": "markdown",
   "metadata": {},
   "source": [
    "### Part 1"
   ]
  },
  {
   "cell_type": "code",
   "execution_count": 9,
   "metadata": {},
   "outputs": [],
   "source": [
    "answersPerGroup = []\n",
    "for group in rawDataLines:\n",
    "    groupAnswers = set()\n",
    "    for person in group:\n",
    "        for answer in person:\n",
    "            groupAnswers.add(answer)\n",
    "    answersPerGroup.append(groupAnswers)"
   ]
  },
  {
   "cell_type": "code",
   "execution_count": 11,
   "metadata": {},
   "outputs": [
    {
     "data": {
      "text/plain": [
       "6549"
      ]
     },
     "execution_count": 11,
     "metadata": {},
     "output_type": "execute_result"
    }
   ],
   "source": [
    "totalAnswerCount = 0\n",
    "for groupAnswer in answersPerGroup:\n",
    "    totalAnswerCount += len(groupAnswer)\n",
    "totalAnswerCount"
   ]
  },
  {
   "cell_type": "markdown",
   "metadata": {},
   "source": [
    "### Part 2"
   ]
  },
  {
   "cell_type": "code",
   "execution_count": 35,
   "metadata": {},
   "outputs": [
    {
     "name": "stdout",
     "output_type": "stream",
     "text": [
      "3466\n"
     ]
    }
   ],
   "source": [
    "#4464 is too high\n",
    "\n",
    "totalCount = 0\n",
    "for group in rawDataLines:\n",
    "    for answer in group[0]:\n",
    "        allAnswerSame = True\n",
    "        for person in group:\n",
    "            if answer not in person:\n",
    "                allAnswerSame = False\n",
    "        if allAnswerSame:\n",
    "            totalCount += 1\n",
    "            \n",
    "print(totalCount)"
   ]
  }
 ],
 "metadata": {
  "kernelspec": {
   "display_name": "Python 3",
   "language": "python",
   "name": "python3"
  },
  "language_info": {
   "codemirror_mode": {
    "name": "ipython",
    "version": 3
   },
   "file_extension": ".py",
   "mimetype": "text/x-python",
   "name": "python",
   "nbconvert_exporter": "python",
   "pygments_lexer": "ipython3",
   "version": "3.6.5"
  }
 },
 "nbformat": 4,
 "nbformat_minor": 2
}
